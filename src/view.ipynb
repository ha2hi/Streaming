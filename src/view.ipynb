{
 "cells": [
  {
   "cell_type": "code",
   "execution_count": 92,
   "id": "2401886d",
   "metadata": {},
   "outputs": [
    {
     "name": "stderr",
     "output_type": "stream",
     "text": [
      "2025-07-10 11:12:34.626 WARNING streamlit.runtime.caching.cache_data_api: No runtime found, using MemoryCacheStorageManager\n",
      "2025-07-10 11:12:34.783 WARNING streamlit.runtime.scriptrunner_utils.script_run_context: Thread 'MainThread': missing ScriptRunContext! This warning can be ignored when running in bare mode.\n",
      "2025-07-10 11:12:34.834 \n",
      "  \u001b[33m\u001b[1mWarning:\u001b[0m to view this Streamlit app on a browser, run it with the following\n",
      "  command:\n",
      "\n",
      "    streamlit run /Users/mzc01-hyucksangcho/opt/anaconda3/envs/pyflink_38/lib/python3.8/site-packages/ipykernel_launcher.py [ARGUMENTS]\n",
      "2025-07-10 11:12:34.835 Thread 'MainThread': missing ScriptRunContext! This warning can be ignored when running in bare mode.\n",
      "2025-07-10 11:12:34.835 Thread 'MainThread': missing ScriptRunContext! This warning can be ignored when running in bare mode.\n",
      "2025-07-10 11:12:34.836 No runtime found, using MemoryCacheStorageManager\n",
      "2025-07-10 11:12:34.849 Thread 'MainThread': missing ScriptRunContext! This warning can be ignored when running in bare mode.\n",
      "2025-07-10 11:12:34.850 Thread 'MainThread': missing ScriptRunContext! This warning can be ignored when running in bare mode.\n"
     ]
    },
    {
     "name": "stdout",
     "output_type": "stream",
     "text": [
      "      market         window_start           window_end  one_m_trade_volume  \\\n",
      "0    KRW-XRP  2025-07-10 11:10:00  2025-07-10 11:11:00         102495625.0   \n",
      "1    KRW-TRX  2025-07-10 11:10:00  2025-07-10 11:11:00          15682675.0   \n",
      "2    KRW-ADA  2025-07-10 11:10:00  2025-07-10 11:11:00          10896300.0   \n",
      "3  KRW-STEEM  2025-07-10 11:10:00  2025-07-10 11:11:00           9643158.0   \n",
      "4    KRW-ETH  2025-07-10 11:10:00  2025-07-10 11:11:00           8414575.0   \n",
      "\n",
      "   row_num  \n",
      "0        1  \n",
      "1        2  \n",
      "2        3  \n",
      "3        4  \n",
      "4        5  \n"
     ]
    }
   ],
   "source": [
    "import boto3\n",
    "from datetime import date\n",
    "import pandas as pd\n",
    "from io import StringIO\n",
    "import streamlit as st\n",
    "\n",
    "# 오늘 날짜 구성\n",
    "today = date.today()\n",
    "year = today.year\n",
    "month = today.month\n",
    "day = today.day\n",
    "\n",
    "# S3 클라이언트 초기화\n",
    "s3 = boto3.client('s3')\n",
    "\n",
    "bucket_name = 'pyflink-test-hs'\n",
    "prefix = f'trade_volume_per_minute/year={year}/month={month:02d}/day={day:02d}/'\n",
    "\n",
    "@st.cache_data\n",
    "def load_data(content):\n",
    "    # df = pd.read_json(content, lines=True)\n",
    "    df = pd.read_json(StringIO(content), lines=True)\n",
    "\n",
    "    return df\n",
    "    \n",
    "try:\n",
    "    # 객체 목록 가져오기\n",
    "    response = s3.list_objects_v2(Bucket=bucket_name, Prefix=prefix)\n",
    "    \n",
    "    # 객체가 존재하는 경우\n",
    "    if 'Contents' in response:\n",
    "        # _SUCCESS 제외 후 가장 최근에 생성된 객체 찾기\n",
    "        files = [obj for obj in response['Contents'] if not obj['Key'].endswith('_SUCCESS')]\n",
    "        \n",
    "        if not files:\n",
    "            print(\"파일이 없습니다.\")\n",
    "        else:\n",
    "            latest_file = max(files, key=lambda x: x['LastModified'])\n",
    "            latest_key = latest_file['Key']\n",
    "            # print(\"가장 최근 파일:\", latest_key)\n",
    "\n",
    "            # 예: 파일 내용 읽기 (텍스트 파일이라고 가정)\n",
    "            obj = s3.get_object(Bucket=bucket_name, Key=latest_key)\n",
    "            content = obj['Body'].read().decode('utf-8')\n",
    "            \n",
    "            df = load_data(content)\n",
    "            \n",
    "            st.title(\"📊 Trade Volume Per Minute\")\n",
    "            # st.write(\"Flink에서 저장된 데이터를 Streamlit에서 시각화합니다.\")\n",
    "            \n",
    "            st.dataframe(df)\n",
    "    else:\n",
    "        print(\"해당 prefix에 객체가 없습니다.\")\n",
    "\n",
    "except Exception as e:\n",
    "    print(\"에러 발생:\", e)"
   ]
  },
  {
   "cell_type": "code",
   "execution_count": null,
   "id": "f9fb26a8",
   "metadata": {},
   "outputs": [],
   "source": []
  }
 ],
 "metadata": {
  "kernelspec": {
   "display_name": "pyflink_38",
   "language": "python",
   "name": "python3"
  },
  "language_info": {
   "codemirror_mode": {
    "name": "ipython",
    "version": 3
   },
   "file_extension": ".py",
   "mimetype": "text/x-python",
   "name": "python",
   "nbconvert_exporter": "python",
   "pygments_lexer": "ipython3",
   "version": "3.8.20"
  }
 },
 "nbformat": 4,
 "nbformat_minor": 5
}
