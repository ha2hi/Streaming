{
 "cells": [
  {
   "cell_type": "code",
   "execution_count": 1,
   "id": "175544e3",
   "metadata": {},
   "outputs": [],
   "source": [
    "from pyflink.datastream import StreamExecutionEnvironment\n",
    "from pyflink.table import StreamTableEnvironment, EnvironmentSettings\n",
    "\n",
    "# 1. 환경 설정\n",
    "env = StreamExecutionEnvironment.get_execution_environment()\n",
    "env.set_parallelism(1)\n",
    "env.add_jars(\"file:///Users/mzc01-hyucksangcho/Downloads/flink-sql-connector-kafka-3.3.0-1.19.jar\")\n",
    "\n",
    "settings = EnvironmentSettings.in_streaming_mode()\n",
    "t_env = StreamTableEnvironment.create(env, environment_settings=settings)\n",
    "t_env.get_config().set_local_timezone(\"Asia/Seoul\")"
   ]
  },
  {
   "cell_type": "code",
   "execution_count": 2,
   "id": "d1d0574f",
   "metadata": {},
   "outputs": [
    {
     "data": {
      "text/plain": [
       "<pyflink.table.table_result.TableResult at 0x141b2a490>"
      ]
     },
     "execution_count": 2,
     "metadata": {},
     "output_type": "execute_result"
    }
   ],
   "source": [
    "# 2. Kafka 소스 테이블 생성\n",
    "\n",
    "t_env.execute_sql(\"\"\"\n",
    "CREATE TABLE transaction (\n",
    "    market STRING,\n",
    "    trade_date STRING,\n",
    "    trade_time STRING,\n",
    "    trade_date_kst STRING,\n",
    "    trade_time_kst STRING,\n",
    "    trade_timestamp BIGINT,\n",
    "    opening_price DOUBLE,\n",
    "    high_price DOUBLE,\n",
    "    low_price DOUBLE,\n",
    "    trade_price DOUBLE,\n",
    "    prev_closing_price DOUBLE,\n",
    "    change STRING,\n",
    "    change_price DOUBLE,\n",
    "    change_rate DOUBLE,\n",
    "    signed_change_price DOUBLE,\n",
    "    signed_change_rate DOUBLE,\n",
    "    trade_volume DOUBLE,\n",
    "    acc_trade_price DOUBLE,\n",
    "    acc_trade_price_24h DOUBLE,\n",
    "    acc_trade_volume DOUBLE,\n",
    "    acc_trade_volume_24h DOUBLE,\n",
    "    highest_52_week_price DOUBLE,\n",
    "    highest_52_week_date STRING,\n",
    "    lowest_52_week_price DOUBLE,\n",
    "    lowest_52_week_date STRING,\n",
    "    `timestamp` BIGINT,\n",
    "    event_time AS TO_TIMESTAMP_LTZ(`timestamp`, 3),\n",
    "    WATERMARK FOR event_time AS event_time - INTERVAL '1' SECOND\n",
    ") WITH (\n",
    "    'connector' = 'kafka',\n",
    "    'topic' = 'transction',\n",
    "    'properties.bootstrap.servers' = '54.180.149.232:9091',\n",
    "    'properties.group.id' = 'flink-group',\n",
    "    'scan.startup.mode' = 'latest-offset',\n",
    "    'format' = 'json',\n",
    "    'json.fail-on-missing-field' = 'false',\n",
    "    'json.ignore-parse-errors' = 'true'\n",
    ")\n",
    "\"\"\")\n",
    "\n",
    "# t_env.execute_sql(\"SELECT * FROM transaction\").print()\n",
    "# t_env.execute_sql(\"desc transaction\").print()"
   ]
  },
  {
   "cell_type": "code",
   "execution_count": 3,
   "id": "067430e3",
   "metadata": {},
   "outputs": [
    {
     "data": {
      "text/plain": [
       "<pyflink.table.table_result.TableResult at 0x1111e6280>"
      ]
     },
     "execution_count": 3,
     "metadata": {},
     "output_type": "execute_result"
    }
   ],
   "source": [
    "# 3. 거래 금액 집계 뷰 생성 (1분 윈도우)\n",
    "# MINUTES\n",
    "\n",
    "t_env.execute_sql(\n",
    "\"\"\"\n",
    "CREATE TEMPORARY VIEW trade_volume_per_minute AS \n",
    "SELECT\n",
    "    market,\n",
    "    window_start, \n",
    "    window_end,\n",
    "    FLOOR(SUM(trade_price * trade_volume)) as one_m_trade_volume\n",
    "FROM TABLE(TUMBLE(TABLE transaction, DESCRIPTOR(event_time), INTERVAL '1' MINUTES))\n",
    "GROUP BY market, window_start, window_end\n",
    "\"\"\")\n",
    "\n",
    "#table_result1 = t_env.execute_sql(\"SELECT * FROM trade_volume_per_minute\")\n",
    "#table_result1.print()"
   ]
  },
  {
   "cell_type": "code",
   "execution_count": 4,
   "id": "02f0cd07",
   "metadata": {},
   "outputs": [
    {
     "data": {
      "text/plain": [
       "<pyflink.table.table_result.TableResult at 0x141b392b0>"
      ]
     },
     "execution_count": 4,
     "metadata": {},
     "output_type": "execute_result"
    }
   ],
   "source": [
    "# 4. 윈도우별 Top 5 추출\n",
    "\n",
    "t_env.execute_sql(\"\"\"\n",
    "CREATE TEMPORARY VIEW top5_trade_volume_per_minute AS\n",
    "SELECT *\n",
    "FROM (\n",
    "    SELECT *,\n",
    "        ROW_NUMBER() OVER (\n",
    "            PARTITION BY window_start, window_end \n",
    "            ORDER BY one_m_trade_volume DESC\n",
    "        ) AS row_num\n",
    "    FROM trade_volume_per_minute\n",
    ")\n",
    "WHERE row_num <= 5\n",
    "\"\"\")\n",
    "\n",
    "# t_env.execute_sql(\"SELECT * FROM top5_trade_volume_per_minute\").print()"
   ]
  },
  {
   "cell_type": "code",
   "execution_count": 5,
   "id": "5d59274e",
   "metadata": {},
   "outputs": [
    {
     "ename": "AttributeError",
     "evalue": "'TableResult' object has no attribute 'execute'",
     "output_type": "error",
     "traceback": [
      "\u001b[0;31m---------------------------------------------------------------------------\u001b[0m",
      "\u001b[0;31mAttributeError\u001b[0m                            Traceback (most recent call last)",
      "\u001b[0;32m/var/folders/hs/qgyqqppj281bp7zh9vj3jry40000gn/T/ipykernel_45830/1594560216.py\u001b[0m in \u001b[0;36m<cell line: 16>\u001b[0;34m()\u001b[0m\n\u001b[1;32m     14\u001b[0m \u001b[0;34m\u001b[0m\u001b[0m\n\u001b[1;32m     15\u001b[0m \u001b[0mtable_result\u001b[0m \u001b[0;34m=\u001b[0m \u001b[0mt_env\u001b[0m\u001b[0;34m.\u001b[0m\u001b[0mexecute_sql\u001b[0m\u001b[0;34m(\u001b[0m\u001b[0;34m\"INSERT INTO top5_sink SELECT * FROM top5_trade_volume_per_minute;\"\u001b[0m\u001b[0;34m)\u001b[0m\u001b[0;34m\u001b[0m\u001b[0;34m\u001b[0m\u001b[0m\n\u001b[0;32m---> 16\u001b[0;31m \u001b[0mtable_result\u001b[0m\u001b[0;34m.\u001b[0m\u001b[0mexecute\u001b[0m\u001b[0;34m(\u001b[0m\u001b[0;34m)\u001b[0m\u001b[0;34m\u001b[0m\u001b[0;34m\u001b[0m\u001b[0m\n\u001b[0m",
      "\u001b[0;31mAttributeError\u001b[0m: 'TableResult' object has no attribute 'execute'"
     ]
    }
   ],
   "source": [
    "t_env.execute_sql(\"\"\"\n",
    "CREATE TABLE top5_sink(\n",
    "    market STRING,\n",
    "    window_start TIMESTAMP(3),\n",
    "    window_end TIMESTAMP(3),\n",
    "    one_m_trade_volume DOUBLE,\n",
    "    row_num BIGINT\n",
    ") WITH (\n",
    "    'connector' = 'kafka',\n",
    "    'topic' = 'top5_per_minute',\n",
    "    'properties.bootstrap.servers' = '54.180.149.232:9091',\n",
    "    'format' = 'json')\n",
    "\"\"\")\n",
    "\n",
    "table_result = t_env.execute_sql(\"INSERT INTO top5_sink SELECT * FROM top5_trade_volume_per_minute;\")\n",
    "table_result.execute()"
   ]
  },
  {
   "cell_type": "markdown",
   "id": "d0c240fd",
   "metadata": {},
   "source": []
  },
  {
   "cell_type": "code",
   "execution_count": null,
   "id": "c45e5677",
   "metadata": {},
   "outputs": [],
   "source": []
  }
 ],
 "metadata": {
  "kernelspec": {
   "display_name": "pyflink_38",
   "language": "python",
   "name": "python3"
  },
  "language_info": {
   "codemirror_mode": {
    "name": "ipython",
    "version": 3
   },
   "file_extension": ".py",
   "mimetype": "text/x-python",
   "name": "python",
   "nbconvert_exporter": "python",
   "pygments_lexer": "ipython3",
   "version": "3.8.20"
  }
 },
 "nbformat": 4,
 "nbformat_minor": 5
}
