{
 "cells": [
  {
   "cell_type": "code",
   "execution_count": 1,
   "id": "afc2fb98",
   "metadata": {},
   "outputs": [
    {
     "name": "stdout",
     "output_type": "stream",
     "text": [
      "/Users/mzc01-hyucksangcho/opt/anaconda3/envs/pyflink_38/lib/python3.8/site-packages/pyflink\n"
     ]
    }
   ],
   "source": [
    "# Pyflink 저장 위치\n",
    "import pyflink\n",
    "import os\n",
    "print(os.path.dirname(os.path.abspath(pyflink.__file__)))\n"
   ]
  },
  {
   "cell_type": "code",
   "execution_count": 3,
   "id": "175544e3",
   "metadata": {},
   "outputs": [
    {
     "data": {
      "text/plain": [
       "<pyflink.common.configuration.Configuration at 0x142136640>"
      ]
     },
     "execution_count": 3,
     "metadata": {},
     "output_type": "execute_result"
    }
   ],
   "source": [
    "# 1. 환경 설정\n",
    "from pyflink.datastream import StreamExecutionEnvironment\n",
    "from pyflink.table import StreamTableEnvironment, EnvironmentSettings\n",
    "\n",
    "env = StreamExecutionEnvironment.get_execution_environment()\n",
    "env.set_parallelism(3)\n",
    "env.add_jars(\"file:///Users/mzc01-hyucksangcho/Downloads/flink-sql-connector-kafka-3.3.0-1.19.jar\")\n",
    "\n",
    "settings = EnvironmentSettings.in_streaming_mode()\n",
    "t_env = StreamTableEnvironment.create(env, environment_settings=settings)\n",
    "t_env.get_config().set_local_timezone(\"Asia/Seoul\")\n",
    "t_env.get_config().get_configuration().set_string(\"execution.checkpointing.mode\", \"EXACTLY_ONCE\")\n",
    "t_env.get_config().get_configuration().set_string(\"execution.checkpointing.interval\", \"1 min\")"
   ]
  },
  {
   "cell_type": "code",
   "execution_count": null,
   "id": "d1d0574f",
   "metadata": {},
   "outputs": [
    {
     "data": {
      "text/plain": [
       "<pyflink.table.table_result.TableResult at 0x1113f9be0>"
      ]
     },
     "execution_count": 4,
     "metadata": {},
     "output_type": "execute_result"
    }
   ],
   "source": [
    "# 2. Kafka 소스 테이블 생성\n",
    "\n",
    "t_env.execute_sql(\"\"\"\n",
    "CREATE TABLE transaction (\n",
    "    market STRING,\n",
    "    trade_date STRING,\n",
    "    trade_time STRING,\n",
    "    trade_date_kst STRING,\n",
    "    trade_time_kst STRING,\n",
    "    trade_timestamp BIGINT,\n",
    "    opening_price DOUBLE,\n",
    "    high_price DOUBLE,\n",
    "    low_price DOUBLE,\n",
    "    trade_price DOUBLE,\n",
    "    prev_closing_price DOUBLE,\n",
    "    change STRING,\n",
    "    change_price DOUBLE,\n",
    "    change_rate DOUBLE,\n",
    "    signed_change_price DOUBLE,\n",
    "    signed_change_rate DOUBLE,\n",
    "    trade_volume DOUBLE,\n",
    "    acc_trade_price DOUBLE,\n",
    "    acc_trade_price_24h DOUBLE,\n",
    "    acc_trade_volume DOUBLE,\n",
    "    acc_trade_volume_24h DOUBLE,\n",
    "    highest_52_week_price DOUBLE,\n",
    "    highest_52_week_date STRING,\n",
    "    lowest_52_week_price DOUBLE,\n",
    "    lowest_52_week_date STRING,\n",
    "    `timestamp` BIGINT,\n",
    "    name STRING,\n",
    "    event_time AS TO_TIMESTAMP_LTZ(`timestamp`, 3),\n",
    "    WATERMARK FOR event_time AS event_time - INTERVAL '1' SECOND\n",
    ") WITH (\n",
    "    'connector' = 'kafka',\n",
    "    'topic' = 'transction',\n",
    "    'properties.bootstrap.servers' = '13.125.255.88:9091',\n",
    "    'properties.group.id' = 'flink-group',\n",
    "    'scan.startup.mode' = 'latest-offset',\n",
    "    'format' = 'json',\n",
    "    'json.fail-on-missing-field' = 'false',\n",
    "    'json.ignore-parse-errors' = 'true'\n",
    ")\n",
    "\"\"\")\n",
    "\n",
    "# t_env.execute_sql(\"SELECT * FROM transaction\").print()\n",
    "# t_env.execute_sql(\"desc transaction\").print()"
   ]
  },
  {
   "cell_type": "code",
   "execution_count": null,
   "id": "b1617ecf",
   "metadata": {},
   "outputs": [],
   "source": []
  },
  {
   "cell_type": "code",
   "execution_count": 5,
   "id": "067430e3",
   "metadata": {},
   "outputs": [
    {
     "data": {
      "text/plain": [
       "<pyflink.table.table_result.TableResult at 0x142136700>"
      ]
     },
     "execution_count": 5,
     "metadata": {},
     "output_type": "execute_result"
    }
   ],
   "source": [
    "# 3. 거래 금액 집계 뷰 생성 (1분 윈도우)\n",
    "# MINUTES\n",
    "\n",
    "t_env.execute_sql(\n",
    "\"\"\"\n",
    "CREATE TEMPORARY VIEW trade_volume_per_minute AS \n",
    "SELECT\n",
    "    market,\n",
    "    name,\n",
    "    window_start, \n",
    "    window_end,\n",
    "    FLOOR(SUM(trade_price * trade_volume)) as one_m_trade_volume\n",
    "FROM TABLE(TUMBLE(TABLE transaction, DESCRIPTOR(event_time), INTERVAL '1' MINUTES))\n",
    "GROUP BY market, name, window_start, window_end\n",
    "\"\"\")\n",
    "\n",
    "#table_result1 = t_env.execute_sql(\"SELECT * FROM trade_volume_per_minute\")\n",
    "#table_result1.print()"
   ]
  },
  {
   "cell_type": "code",
   "execution_count": 6,
   "id": "02f0cd07",
   "metadata": {},
   "outputs": [
    {
     "data": {
      "text/plain": [
       "<pyflink.table.table_result.TableResult at 0x142147640>"
      ]
     },
     "execution_count": 6,
     "metadata": {},
     "output_type": "execute_result"
    }
   ],
   "source": [
    "# 4. 윈도우별 Top 5 추출\n",
    "\n",
    "t_env.execute_sql(\"\"\"\n",
    "CREATE TEMPORARY VIEW top5_trade_volume_per_minute AS\n",
    "SELECT *\n",
    "FROM (\n",
    "    SELECT *,\n",
    "        ROW_NUMBER() OVER (\n",
    "            PARTITION BY window_start, window_end \n",
    "            ORDER BY one_m_trade_volume DESC\n",
    "        ) AS row_num\n",
    "    FROM trade_volume_per_minute\n",
    ")\n",
    "WHERE row_num <= 5\n",
    "\"\"\")\n",
    "\n",
    "# t_env.execute_sql(\"SELECT * FROM top5_trade_volume_per_minute\").print()"
   ]
  },
  {
   "cell_type": "code",
   "execution_count": 7,
   "id": "4b9f1fe6",
   "metadata": {},
   "outputs": [
    {
     "name": "stdout",
     "output_type": "stream",
     "text": [
      "2025-07-10 17:38:36,482 WARN  org.apache.hadoop.metrics2.impl.MetricsConfig                [] - Cannot locate configuration: tried hadoop-metrics2-s3a-file-system.properties,hadoop-metrics2.properties\n",
      "2025-07-10 17:38:36,493 INFO  org.apache.hadoop.metrics2.impl.MetricsSystemImpl            [] - Scheduled Metric snapshot period at 10 second(s).\n",
      "2025-07-10 17:38:36,494 INFO  org.apache.hadoop.metrics2.impl.MetricsSystemImpl            [] - s3a-file-system metrics system started\n"
     ]
    },
    {
     "name": "stderr",
     "output_type": "stream",
     "text": [
      "ERROR:root:KeyboardInterrupt while sending command.\n",
      "Traceback (most recent call last):\n",
      "  File \"/Users/mzc01-hyucksangcho/opt/anaconda3/envs/pyflink_38/lib/python3.8/site-packages/py4j/java_gateway.py\", line 1038, in send_command\n",
      "    response = connection.send_command(command)\n",
      "  File \"/Users/mzc01-hyucksangcho/opt/anaconda3/envs/pyflink_38/lib/python3.8/site-packages/py4j/java_gateway.py\", line 1217, in send_command\n",
      "    answer = smart_decode(self.stream.readline()[:-1])\n",
      "  File \"/Users/mzc01-hyucksangcho/opt/anaconda3/envs/pyflink_38/lib/python3.8/socket.py\", line 681, in readinto\n",
      "    return self._sock.recv_into(b)\n",
      "KeyboardInterrupt\n"
     ]
    },
    {
     "ename": "KeyboardInterrupt",
     "evalue": "",
     "output_type": "error",
     "traceback": [
      "\u001b[0;31m---------------------------------------------------------------------------\u001b[0m",
      "\u001b[0;31mKeyboardInterrupt\u001b[0m                         Traceback (most recent call last)",
      "\u001b[0;32m/var/folders/hs/qgyqqppj281bp7zh9vj3jry40000gn/T/ipykernel_64397/1041201765.py\u001b[0m in \u001b[0;36m<cell line: 38>\u001b[0;34m()\u001b[0m\n\u001b[1;32m     36\u001b[0m \"\"\")\n\u001b[1;32m     37\u001b[0m \u001b[0;34m\u001b[0m\u001b[0m\n\u001b[0;32m---> 38\u001b[0;31m \u001b[0mtable_result\u001b[0m\u001b[0;34m.\u001b[0m\u001b[0mwait\u001b[0m\u001b[0;34m(\u001b[0m\u001b[0;34m)\u001b[0m\u001b[0;34m\u001b[0m\u001b[0;34m\u001b[0m\u001b[0m\n\u001b[0m",
      "\u001b[0;32m~/opt/anaconda3/envs/pyflink_38/lib/python3.8/site-packages/pyflink/table/table_result.py\u001b[0m in \u001b[0;36mwait\u001b[0;34m(self, timeout_ms)\u001b[0m\n\u001b[1;32m     74\u001b[0m             \u001b[0mget_method\u001b[0m\u001b[0;34m(\u001b[0m\u001b[0mself\u001b[0m\u001b[0;34m.\u001b[0m\u001b[0m_j_table_result\u001b[0m\u001b[0;34m,\u001b[0m \u001b[0;34m\"await\"\u001b[0m\u001b[0;34m)\u001b[0m\u001b[0;34m(\u001b[0m\u001b[0mtimeout_ms\u001b[0m\u001b[0;34m,\u001b[0m \u001b[0mTimeUnit\u001b[0m\u001b[0;34m.\u001b[0m\u001b[0mMILLISECONDS\u001b[0m\u001b[0;34m)\u001b[0m\u001b[0;34m\u001b[0m\u001b[0;34m\u001b[0m\u001b[0m\n\u001b[1;32m     75\u001b[0m         \u001b[0;32melse\u001b[0m\u001b[0;34m:\u001b[0m\u001b[0;34m\u001b[0m\u001b[0;34m\u001b[0m\u001b[0m\n\u001b[0;32m---> 76\u001b[0;31m             \u001b[0mget_method\u001b[0m\u001b[0;34m(\u001b[0m\u001b[0mself\u001b[0m\u001b[0;34m.\u001b[0m\u001b[0m_j_table_result\u001b[0m\u001b[0;34m,\u001b[0m \u001b[0;34m\"await\"\u001b[0m\u001b[0;34m)\u001b[0m\u001b[0;34m(\u001b[0m\u001b[0;34m)\u001b[0m\u001b[0;34m\u001b[0m\u001b[0;34m\u001b[0m\u001b[0m\n\u001b[0m\u001b[1;32m     77\u001b[0m \u001b[0;34m\u001b[0m\u001b[0m\n\u001b[1;32m     78\u001b[0m     \u001b[0;32mdef\u001b[0m \u001b[0mget_table_schema\u001b[0m\u001b[0;34m(\u001b[0m\u001b[0mself\u001b[0m\u001b[0;34m)\u001b[0m \u001b[0;34m->\u001b[0m \u001b[0mTableSchema\u001b[0m\u001b[0;34m:\u001b[0m\u001b[0;34m\u001b[0m\u001b[0;34m\u001b[0m\u001b[0m\n",
      "\u001b[0;32m~/opt/anaconda3/envs/pyflink_38/lib/python3.8/site-packages/py4j/java_gateway.py\u001b[0m in \u001b[0;36m__call__\u001b[0;34m(self, *args)\u001b[0m\n\u001b[1;32m   1319\u001b[0m             \u001b[0mproto\u001b[0m\u001b[0;34m.\u001b[0m\u001b[0mEND_COMMAND_PART\u001b[0m\u001b[0;34m\u001b[0m\u001b[0;34m\u001b[0m\u001b[0m\n\u001b[1;32m   1320\u001b[0m \u001b[0;34m\u001b[0m\u001b[0m\n\u001b[0;32m-> 1321\u001b[0;31m         \u001b[0manswer\u001b[0m \u001b[0;34m=\u001b[0m \u001b[0mself\u001b[0m\u001b[0;34m.\u001b[0m\u001b[0mgateway_client\u001b[0m\u001b[0;34m.\u001b[0m\u001b[0msend_command\u001b[0m\u001b[0;34m(\u001b[0m\u001b[0mcommand\u001b[0m\u001b[0;34m)\u001b[0m\u001b[0;34m\u001b[0m\u001b[0;34m\u001b[0m\u001b[0m\n\u001b[0m\u001b[1;32m   1322\u001b[0m         return_value = get_return_value(\n\u001b[1;32m   1323\u001b[0m             answer, self.gateway_client, self.target_id, self.name)\n",
      "\u001b[0;32m~/opt/anaconda3/envs/pyflink_38/lib/python3.8/site-packages/py4j/java_gateway.py\u001b[0m in \u001b[0;36msend_command\u001b[0;34m(self, command, retry, binary)\u001b[0m\n\u001b[1;32m   1036\u001b[0m         \u001b[0mconnection\u001b[0m \u001b[0;34m=\u001b[0m \u001b[0mself\u001b[0m\u001b[0;34m.\u001b[0m\u001b[0m_get_connection\u001b[0m\u001b[0;34m(\u001b[0m\u001b[0;34m)\u001b[0m\u001b[0;34m\u001b[0m\u001b[0;34m\u001b[0m\u001b[0m\n\u001b[1;32m   1037\u001b[0m         \u001b[0;32mtry\u001b[0m\u001b[0;34m:\u001b[0m\u001b[0;34m\u001b[0m\u001b[0;34m\u001b[0m\u001b[0m\n\u001b[0;32m-> 1038\u001b[0;31m             \u001b[0mresponse\u001b[0m \u001b[0;34m=\u001b[0m \u001b[0mconnection\u001b[0m\u001b[0;34m.\u001b[0m\u001b[0msend_command\u001b[0m\u001b[0;34m(\u001b[0m\u001b[0mcommand\u001b[0m\u001b[0;34m)\u001b[0m\u001b[0;34m\u001b[0m\u001b[0;34m\u001b[0m\u001b[0m\n\u001b[0m\u001b[1;32m   1039\u001b[0m             \u001b[0;32mif\u001b[0m \u001b[0mbinary\u001b[0m\u001b[0;34m:\u001b[0m\u001b[0;34m\u001b[0m\u001b[0;34m\u001b[0m\u001b[0m\n\u001b[1;32m   1040\u001b[0m                 \u001b[0;32mreturn\u001b[0m \u001b[0mresponse\u001b[0m\u001b[0;34m,\u001b[0m \u001b[0mself\u001b[0m\u001b[0;34m.\u001b[0m\u001b[0m_create_connection_guard\u001b[0m\u001b[0;34m(\u001b[0m\u001b[0mconnection\u001b[0m\u001b[0;34m)\u001b[0m\u001b[0;34m\u001b[0m\u001b[0;34m\u001b[0m\u001b[0m\n",
      "\u001b[0;32m~/opt/anaconda3/envs/pyflink_38/lib/python3.8/site-packages/py4j/java_gateway.py\u001b[0m in \u001b[0;36msend_command\u001b[0;34m(self, command)\u001b[0m\n\u001b[1;32m   1215\u001b[0m \u001b[0;34m\u001b[0m\u001b[0m\n\u001b[1;32m   1216\u001b[0m         \u001b[0;32mtry\u001b[0m\u001b[0;34m:\u001b[0m\u001b[0;34m\u001b[0m\u001b[0;34m\u001b[0m\u001b[0m\n\u001b[0;32m-> 1217\u001b[0;31m             \u001b[0manswer\u001b[0m \u001b[0;34m=\u001b[0m \u001b[0msmart_decode\u001b[0m\u001b[0;34m(\u001b[0m\u001b[0mself\u001b[0m\u001b[0;34m.\u001b[0m\u001b[0mstream\u001b[0m\u001b[0;34m.\u001b[0m\u001b[0mreadline\u001b[0m\u001b[0;34m(\u001b[0m\u001b[0;34m)\u001b[0m\u001b[0;34m[\u001b[0m\u001b[0;34m:\u001b[0m\u001b[0;34m-\u001b[0m\u001b[0;36m1\u001b[0m\u001b[0;34m]\u001b[0m\u001b[0;34m)\u001b[0m\u001b[0;34m\u001b[0m\u001b[0;34m\u001b[0m\u001b[0m\n\u001b[0m\u001b[1;32m   1218\u001b[0m             \u001b[0mlogger\u001b[0m\u001b[0;34m.\u001b[0m\u001b[0mdebug\u001b[0m\u001b[0;34m(\u001b[0m\u001b[0;34m\"Answer received: {0}\"\u001b[0m\u001b[0;34m.\u001b[0m\u001b[0mformat\u001b[0m\u001b[0;34m(\u001b[0m\u001b[0manswer\u001b[0m\u001b[0;34m)\u001b[0m\u001b[0;34m)\u001b[0m\u001b[0;34m\u001b[0m\u001b[0;34m\u001b[0m\u001b[0m\n\u001b[1;32m   1219\u001b[0m             \u001b[0;32mif\u001b[0m \u001b[0manswer\u001b[0m\u001b[0;34m.\u001b[0m\u001b[0mstartswith\u001b[0m\u001b[0;34m(\u001b[0m\u001b[0mproto\u001b[0m\u001b[0;34m.\u001b[0m\u001b[0mRETURN_MESSAGE\u001b[0m\u001b[0;34m)\u001b[0m\u001b[0;34m:\u001b[0m\u001b[0;34m\u001b[0m\u001b[0;34m\u001b[0m\u001b[0m\n",
      "\u001b[0;32m~/opt/anaconda3/envs/pyflink_38/lib/python3.8/socket.py\u001b[0m in \u001b[0;36mreadinto\u001b[0;34m(self, b)\u001b[0m\n\u001b[1;32m    679\u001b[0m         \u001b[0;32mwhile\u001b[0m \u001b[0;32mTrue\u001b[0m\u001b[0;34m:\u001b[0m\u001b[0;34m\u001b[0m\u001b[0;34m\u001b[0m\u001b[0m\n\u001b[1;32m    680\u001b[0m             \u001b[0;32mtry\u001b[0m\u001b[0;34m:\u001b[0m\u001b[0;34m\u001b[0m\u001b[0;34m\u001b[0m\u001b[0m\n\u001b[0;32m--> 681\u001b[0;31m                 \u001b[0;32mreturn\u001b[0m \u001b[0mself\u001b[0m\u001b[0;34m.\u001b[0m\u001b[0m_sock\u001b[0m\u001b[0;34m.\u001b[0m\u001b[0mrecv_into\u001b[0m\u001b[0;34m(\u001b[0m\u001b[0mb\u001b[0m\u001b[0;34m)\u001b[0m\u001b[0;34m\u001b[0m\u001b[0;34m\u001b[0m\u001b[0m\n\u001b[0m\u001b[1;32m    682\u001b[0m             \u001b[0;32mexcept\u001b[0m \u001b[0mtimeout\u001b[0m\u001b[0;34m:\u001b[0m\u001b[0;34m\u001b[0m\u001b[0;34m\u001b[0m\u001b[0m\n\u001b[1;32m    683\u001b[0m                 \u001b[0mself\u001b[0m\u001b[0;34m.\u001b[0m\u001b[0m_timeout_occurred\u001b[0m \u001b[0;34m=\u001b[0m \u001b[0;32mTrue\u001b[0m\u001b[0;34m\u001b[0m\u001b[0;34m\u001b[0m\u001b[0m\n",
      "\u001b[0;31mKeyboardInterrupt\u001b[0m: "
     ]
    }
   ],
   "source": [
    "# 5. S3 Sink 저장\n",
    "# Partition으로 컬럼을 사용하면 데이터에는 해당 컬럼이 저장안됨.\n",
    "t_env.execute_sql(f\"\"\"\n",
    "CREATE TABLE s3_sink (\n",
    "    name STRING,\n",
    "    market STRING,\n",
    "    window_start TIMESTAMP(3),\n",
    "    window_end TIMESTAMP(3),\n",
    "    one_m_trade_volume DOUBLE,\n",
    "    row_num BIGINT,\n",
    "    `year` STRING,\n",
    "    `month` STRING,\n",
    "    `day` STRING\n",
    "  ) PARTITIONED BY (`year`, `month`, `day`)\n",
    "  WITH (\n",
    "    'connector' = 'filesystem',\n",
    "    'path' = 's3a://pyflink-test-hs/trade_volume_per_minute/',\n",
    "    'sink.partition-commit.policy.kind'='success-file',\n",
    "    'format' = 'json'\n",
    ")\n",
    "\"\"\")\n",
    "\n",
    "table_result = t_env.execute_sql(\"\"\"\n",
    "INSERT INTO s3_sink \n",
    "SELECT\n",
    "      name,  \n",
    "      market,\n",
    "      window_start,\n",
    "      window_end,\n",
    "      one_m_trade_volume,\n",
    "      row_num,\n",
    "      DATE_FORMAT(window_start, 'yyyy') as `year`,\n",
    "      DATE_FORMAT(window_start, 'MM') as `month`,\n",
    "      DATE_FORMAT(window_start, 'dd') as `day`\n",
    "FROM top5_trade_volume_per_minute;\n",
    "\"\"\")\n",
    "\n",
    "table_result.wait()"
   ]
  },
  {
   "cell_type": "code",
   "execution_count": null,
   "id": "4f12579b",
   "metadata": {},
   "outputs": [],
   "source": []
  }
 ],
 "metadata": {
  "kernelspec": {
   "display_name": "pyflink_38",
   "language": "python",
   "name": "python3"
  },
  "language_info": {
   "codemirror_mode": {
    "name": "ipython",
    "version": 3
   },
   "file_extension": ".py",
   "mimetype": "text/x-python",
   "name": "python",
   "nbconvert_exporter": "python",
   "pygments_lexer": "ipython3",
   "version": "3.8.20"
  }
 },
 "nbformat": 4,
 "nbformat_minor": 5
}
