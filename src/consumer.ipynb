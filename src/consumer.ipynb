{
 "cells": [
  {
   "cell_type": "code",
   "execution_count": null,
   "id": "175544e3",
   "metadata": {},
   "outputs": [],
   "source": [
    "from pyflink.datastream import StreamExecutionEnvironment\n",
    "from pyflink.table import StreamTableEnvironment, EnvironmentSettings\n",
    "\n",
    "# 1. 환경 설정\n",
    "env = StreamExecutionEnvironment.get_execution_environment()\n",
    "env.set_parallelism(4)\n",
    "env.add_jars(\"file:///Users/mzc01-hyucksangcho/Downloads/flink-sql-connector-kafka-3.3.0-1.19.jar\")\n",
    "\n",
    "settings = EnvironmentSettings.in_streaming_mode()\n",
    "t_env = StreamTableEnvironment.create(env, environment_settings=settings)\n",
    "t_env.get_config().set_local_timezone(\"Asia/Seoul\")"
   ]
  },
  {
   "cell_type": "code",
   "execution_count": null,
   "id": "d1d0574f",
   "metadata": {},
   "outputs": [
    {
     "data": {
      "text/plain": [
       "<pyflink.table.table_result.TableResult at 0x13e45f100>"
      ]
     },
     "execution_count": 2,
     "metadata": {},
     "output_type": "execute_result"
    }
   ],
   "source": [
    "# 2. Kafka 소스 테이블 생성\n",
    "\n",
    "t_env.execute_sql(\"\"\"\n",
    "CREATE TABLE transaction (\n",
    "    market STRING,\n",
    "    trade_date STRING,\n",
    "    trade_time STRING,\n",
    "    trade_date_kst STRING,\n",
    "    trade_time_kst STRING,\n",
    "    trade_timestamp BIGINT,\n",
    "    opening_price DOUBLE,\n",
    "    high_price DOUBLE,\n",
    "    low_price DOUBLE,\n",
    "    trade_price DOUBLE,\n",
    "    prev_closing_price DOUBLE,\n",
    "    change STRING,\n",
    "    change_price DOUBLE,\n",
    "    change_rate DOUBLE,\n",
    "    signed_change_price DOUBLE,\n",
    "    signed_change_rate DOUBLE,\n",
    "    trade_volume DOUBLE,\n",
    "    acc_trade_price DOUBLE,\n",
    "    acc_trade_price_24h DOUBLE,\n",
    "    acc_trade_volume DOUBLE,\n",
    "    acc_trade_volume_24h DOUBLE,\n",
    "    highest_52_week_price DOUBLE,\n",
    "    highest_52_week_date STRING,\n",
    "    lowest_52_week_price DOUBLE,\n",
    "    lowest_52_week_date STRING,\n",
    "    `timestamp` BIGINT,\n",
    "    event_time AS TO_TIMESTAMP_LTZ(`timestamp`, 3),\n",
    "    WATERMARK FOR event_time AS event_time - INTERVAL '5' SECOND\n",
    ") WITH (\n",
    "    'connector' = 'kafka',\n",
    "    'topic' = 'transction',\n",
    "    'properties.bootstrap.servers' = '3.37.36.56:9091',\n",
    "    'properties.group.id' = 'flink-group',\n",
    "    'scan.startup.mode' = 'latest-offset',\n",
    "    'format' = 'json',\n",
    "    'json.fail-on-missing-field' = 'false',\n",
    "    'json.ignore-parse-errors' = 'true'\n",
    ")\n",
    "\"\"\")\n",
    "\n",
    "# t_env.execute_sql(\"SELECT * FROM transaction\").print()"
   ]
  },
  {
   "cell_type": "code",
   "execution_count": null,
   "id": "067430e3",
   "metadata": {},
   "outputs": [
    {
     "data": {
      "text/plain": [
       "<pyflink.table.table_result.TableResult at 0x13e45f3d0>"
      ]
     },
     "execution_count": 3,
     "metadata": {},
     "output_type": "execute_result"
    }
   ],
   "source": [
    "# 3. 거래 금액 집계 뷰 생성 (1분 윈도우)\n",
    "\n",
    "t_env.execute_sql(\n",
    "\"\"\"\n",
    "CREATE TEMPORARY VIEW trade_volume_per_minute AS(\n",
    "SELECT\n",
    "    market,\n",
    "    window_start, \n",
    "    window_end,\n",
    "    FLOOR(SUM(trade_price * trade_volume)) as one_m_trade_volume\n",
    "FROM TABLE(\n",
    "    TUMBLE(TABLE transaction, DESCRIPTOR(event_time), INTERVAL '1' MINUTES)\n",
    ")\n",
    "GROUP BY market, window_start, window_end\n",
    ")\n",
    "\"\"\")\n",
    "\n",
    "#t_env.execute_sql(\"SELECT * FROM trade_volume_per_minute\").print()"
   ]
  },
  {
   "cell_type": "code",
   "execution_count": null,
   "id": "02f0cd07",
   "metadata": {},
   "outputs": [
    {
     "name": "stdout",
     "output_type": "stream",
     "text": [
      "+----+--------------------------------+-------------------------+-------------------------+--------------------------------+----------------------+\n",
      "| op |                         market |            window_start |              window_end |             one_m_trade_volume |              row_num |\n",
      "+----+--------------------------------+-------------------------+-------------------------+--------------------------------+----------------------+\n",
      "| +I |                        KRW-BTC | 2025-05-18 21:38:00.000 | 2025-05-18 21:39:00.000 |                      4938252.0 |                    1 |\n",
      "| +I |                        KRW-GLM | 2025-05-18 21:38:00.000 | 2025-05-18 21:39:00.000 |                      1905000.0 |                    2 |\n",
      "| +I |                        KRW-ENJ | 2025-05-18 21:38:00.000 | 2025-05-18 21:39:00.000 |                      1713600.0 |                    3 |\n",
      "| +I |                        KRW-SNT | 2025-05-18 21:38:00.000 | 2025-05-18 21:39:00.000 |                      1313204.0 |                    4 |\n",
      "| +I |                      KRW-THETA | 2025-05-18 21:38:00.000 | 2025-05-18 21:39:00.000 |                       931848.0 |                    5 |\n",
      "| +I |                        KRW-BTC | 2025-05-18 21:39:00.000 | 2025-05-18 21:40:00.000 |                      5134349.0 |                    1 |\n",
      "| +I |                        KRW-GLM | 2025-05-18 21:39:00.000 | 2025-05-18 21:40:00.000 |                      4312154.0 |                    2 |\n",
      "| +I |                        KRW-XRP | 2025-05-18 21:39:00.000 | 2025-05-18 21:40:00.000 |                      1554583.0 |                    3 |\n",
      "| +I |                      KRW-THETA | 2025-05-18 21:39:00.000 | 2025-05-18 21:40:00.000 |                       931848.0 |                    4 |\n",
      "| +I |                        KRW-ENJ | 2025-05-18 21:39:00.000 | 2025-05-18 21:40:00.000 |                       856800.0 |                    5 |\n"
     ]
    },
    {
     "name": "stderr",
     "output_type": "stream",
     "text": [
      "ERROR:root:KeyboardInterrupt while sending command.\n",
      "Traceback (most recent call last):\n",
      "  File \"/Users/mzc01-hyucksangcho/opt/anaconda3/envs/pyflink_38/lib/python3.8/site-packages/py4j/java_gateway.py\", line 1038, in send_command\n",
      "    response = connection.send_command(command)\n",
      "  File \"/Users/mzc01-hyucksangcho/opt/anaconda3/envs/pyflink_38/lib/python3.8/site-packages/py4j/java_gateway.py\", line 1217, in send_command\n",
      "    answer = smart_decode(self.stream.readline()[:-1])\n",
      "  File \"/Users/mzc01-hyucksangcho/opt/anaconda3/envs/pyflink_38/lib/python3.8/socket.py\", line 681, in readinto\n",
      "    return self._sock.recv_into(b)\n",
      "KeyboardInterrupt\n"
     ]
    },
    {
     "ename": "KeyboardInterrupt",
     "evalue": "",
     "output_type": "error",
     "traceback": [
      "\u001b[0;31m---------------------------------------------------------------------------\u001b[0m",
      "\u001b[0;31mKeyboardInterrupt\u001b[0m                         Traceback (most recent call last)",
      "\u001b[0;32m/var/folders/hs/qgyqqppj281bp7zh9vj3jry40000gn/T/ipykernel_24490/887673516.py\u001b[0m in \u001b[0;36m<cell line: 15>\u001b[0;34m()\u001b[0m\n\u001b[1;32m     13\u001b[0m \"\"\")\n\u001b[1;32m     14\u001b[0m \u001b[0;34m\u001b[0m\u001b[0m\n\u001b[0;32m---> 15\u001b[0;31m \u001b[0mt_env\u001b[0m\u001b[0;34m.\u001b[0m\u001b[0mexecute_sql\u001b[0m\u001b[0;34m(\u001b[0m\u001b[0;34m\"SELECT * FROM top5_trade_volume_per_minute\"\u001b[0m\u001b[0;34m)\u001b[0m\u001b[0;34m.\u001b[0m\u001b[0mprint\u001b[0m\u001b[0;34m(\u001b[0m\u001b[0;34m)\u001b[0m\u001b[0;34m\u001b[0m\u001b[0;34m\u001b[0m\u001b[0m\n\u001b[0m",
      "\u001b[0;32m~/opt/anaconda3/envs/pyflink_38/lib/python3.8/site-packages/pyflink/table/table_result.py\u001b[0m in \u001b[0;36mprint\u001b[0;34m(self)\u001b[0m\n\u001b[1;32m    217\u001b[0m         \u001b[0;34m.\u001b[0m\u001b[0;34m.\u001b[0m \u001b[0mversionadded\u001b[0m\u001b[0;34m:\u001b[0m\u001b[0;34m:\u001b[0m \u001b[0;36m1.11\u001b[0m\u001b[0;36m.0\u001b[0m\u001b[0;34m\u001b[0m\u001b[0;34m\u001b[0m\u001b[0m\n\u001b[1;32m    218\u001b[0m         \"\"\"\n\u001b[0;32m--> 219\u001b[0;31m         \u001b[0mself\u001b[0m\u001b[0;34m.\u001b[0m\u001b[0m_j_table_result\u001b[0m\u001b[0;34m.\u001b[0m\u001b[0mprint\u001b[0m\u001b[0;34m(\u001b[0m\u001b[0;34m)\u001b[0m\u001b[0;34m\u001b[0m\u001b[0;34m\u001b[0m\u001b[0m\n\u001b[0m\u001b[1;32m    220\u001b[0m \u001b[0;34m\u001b[0m\u001b[0m\n\u001b[1;32m    221\u001b[0m     \u001b[0;32mdef\u001b[0m \u001b[0m_get_java_table_schema\u001b[0m\u001b[0;34m(\u001b[0m\u001b[0mself\u001b[0m\u001b[0;34m)\u001b[0m\u001b[0;34m:\u001b[0m\u001b[0;34m\u001b[0m\u001b[0;34m\u001b[0m\u001b[0m\n",
      "\u001b[0;32m~/opt/anaconda3/envs/pyflink_38/lib/python3.8/site-packages/py4j/java_gateway.py\u001b[0m in \u001b[0;36m__call__\u001b[0;34m(self, *args)\u001b[0m\n\u001b[1;32m   1319\u001b[0m             \u001b[0mproto\u001b[0m\u001b[0;34m.\u001b[0m\u001b[0mEND_COMMAND_PART\u001b[0m\u001b[0;34m\u001b[0m\u001b[0;34m\u001b[0m\u001b[0m\n\u001b[1;32m   1320\u001b[0m \u001b[0;34m\u001b[0m\u001b[0m\n\u001b[0;32m-> 1321\u001b[0;31m         \u001b[0manswer\u001b[0m \u001b[0;34m=\u001b[0m \u001b[0mself\u001b[0m\u001b[0;34m.\u001b[0m\u001b[0mgateway_client\u001b[0m\u001b[0;34m.\u001b[0m\u001b[0msend_command\u001b[0m\u001b[0;34m(\u001b[0m\u001b[0mcommand\u001b[0m\u001b[0;34m)\u001b[0m\u001b[0;34m\u001b[0m\u001b[0;34m\u001b[0m\u001b[0m\n\u001b[0m\u001b[1;32m   1322\u001b[0m         return_value = get_return_value(\n\u001b[1;32m   1323\u001b[0m             answer, self.gateway_client, self.target_id, self.name)\n",
      "\u001b[0;32m~/opt/anaconda3/envs/pyflink_38/lib/python3.8/site-packages/py4j/java_gateway.py\u001b[0m in \u001b[0;36msend_command\u001b[0;34m(self, command, retry, binary)\u001b[0m\n\u001b[1;32m   1036\u001b[0m         \u001b[0mconnection\u001b[0m \u001b[0;34m=\u001b[0m \u001b[0mself\u001b[0m\u001b[0;34m.\u001b[0m\u001b[0m_get_connection\u001b[0m\u001b[0;34m(\u001b[0m\u001b[0;34m)\u001b[0m\u001b[0;34m\u001b[0m\u001b[0;34m\u001b[0m\u001b[0m\n\u001b[1;32m   1037\u001b[0m         \u001b[0;32mtry\u001b[0m\u001b[0;34m:\u001b[0m\u001b[0;34m\u001b[0m\u001b[0;34m\u001b[0m\u001b[0m\n\u001b[0;32m-> 1038\u001b[0;31m             \u001b[0mresponse\u001b[0m \u001b[0;34m=\u001b[0m \u001b[0mconnection\u001b[0m\u001b[0;34m.\u001b[0m\u001b[0msend_command\u001b[0m\u001b[0;34m(\u001b[0m\u001b[0mcommand\u001b[0m\u001b[0;34m)\u001b[0m\u001b[0;34m\u001b[0m\u001b[0;34m\u001b[0m\u001b[0m\n\u001b[0m\u001b[1;32m   1039\u001b[0m             \u001b[0;32mif\u001b[0m \u001b[0mbinary\u001b[0m\u001b[0;34m:\u001b[0m\u001b[0;34m\u001b[0m\u001b[0;34m\u001b[0m\u001b[0m\n\u001b[1;32m   1040\u001b[0m                 \u001b[0;32mreturn\u001b[0m \u001b[0mresponse\u001b[0m\u001b[0;34m,\u001b[0m \u001b[0mself\u001b[0m\u001b[0;34m.\u001b[0m\u001b[0m_create_connection_guard\u001b[0m\u001b[0;34m(\u001b[0m\u001b[0mconnection\u001b[0m\u001b[0;34m)\u001b[0m\u001b[0;34m\u001b[0m\u001b[0;34m\u001b[0m\u001b[0m\n",
      "\u001b[0;32m~/opt/anaconda3/envs/pyflink_38/lib/python3.8/site-packages/py4j/java_gateway.py\u001b[0m in \u001b[0;36msend_command\u001b[0;34m(self, command)\u001b[0m\n\u001b[1;32m   1215\u001b[0m \u001b[0;34m\u001b[0m\u001b[0m\n\u001b[1;32m   1216\u001b[0m         \u001b[0;32mtry\u001b[0m\u001b[0;34m:\u001b[0m\u001b[0;34m\u001b[0m\u001b[0;34m\u001b[0m\u001b[0m\n\u001b[0;32m-> 1217\u001b[0;31m             \u001b[0manswer\u001b[0m \u001b[0;34m=\u001b[0m \u001b[0msmart_decode\u001b[0m\u001b[0;34m(\u001b[0m\u001b[0mself\u001b[0m\u001b[0;34m.\u001b[0m\u001b[0mstream\u001b[0m\u001b[0;34m.\u001b[0m\u001b[0mreadline\u001b[0m\u001b[0;34m(\u001b[0m\u001b[0;34m)\u001b[0m\u001b[0;34m[\u001b[0m\u001b[0;34m:\u001b[0m\u001b[0;34m-\u001b[0m\u001b[0;36m1\u001b[0m\u001b[0;34m]\u001b[0m\u001b[0;34m)\u001b[0m\u001b[0;34m\u001b[0m\u001b[0;34m\u001b[0m\u001b[0m\n\u001b[0m\u001b[1;32m   1218\u001b[0m             \u001b[0mlogger\u001b[0m\u001b[0;34m.\u001b[0m\u001b[0mdebug\u001b[0m\u001b[0;34m(\u001b[0m\u001b[0;34m\"Answer received: {0}\"\u001b[0m\u001b[0;34m.\u001b[0m\u001b[0mformat\u001b[0m\u001b[0;34m(\u001b[0m\u001b[0manswer\u001b[0m\u001b[0;34m)\u001b[0m\u001b[0;34m)\u001b[0m\u001b[0;34m\u001b[0m\u001b[0;34m\u001b[0m\u001b[0m\n\u001b[1;32m   1219\u001b[0m             \u001b[0;32mif\u001b[0m \u001b[0manswer\u001b[0m\u001b[0;34m.\u001b[0m\u001b[0mstartswith\u001b[0m\u001b[0;34m(\u001b[0m\u001b[0mproto\u001b[0m\u001b[0;34m.\u001b[0m\u001b[0mRETURN_MESSAGE\u001b[0m\u001b[0;34m)\u001b[0m\u001b[0;34m:\u001b[0m\u001b[0;34m\u001b[0m\u001b[0;34m\u001b[0m\u001b[0m\n",
      "\u001b[0;32m~/opt/anaconda3/envs/pyflink_38/lib/python3.8/socket.py\u001b[0m in \u001b[0;36mreadinto\u001b[0;34m(self, b)\u001b[0m\n\u001b[1;32m    679\u001b[0m         \u001b[0;32mwhile\u001b[0m \u001b[0;32mTrue\u001b[0m\u001b[0;34m:\u001b[0m\u001b[0;34m\u001b[0m\u001b[0;34m\u001b[0m\u001b[0m\n\u001b[1;32m    680\u001b[0m             \u001b[0;32mtry\u001b[0m\u001b[0;34m:\u001b[0m\u001b[0;34m\u001b[0m\u001b[0;34m\u001b[0m\u001b[0m\n\u001b[0;32m--> 681\u001b[0;31m                 \u001b[0;32mreturn\u001b[0m \u001b[0mself\u001b[0m\u001b[0;34m.\u001b[0m\u001b[0m_sock\u001b[0m\u001b[0;34m.\u001b[0m\u001b[0mrecv_into\u001b[0m\u001b[0;34m(\u001b[0m\u001b[0mb\u001b[0m\u001b[0;34m)\u001b[0m\u001b[0;34m\u001b[0m\u001b[0;34m\u001b[0m\u001b[0m\n\u001b[0m\u001b[1;32m    682\u001b[0m             \u001b[0;32mexcept\u001b[0m \u001b[0mtimeout\u001b[0m\u001b[0;34m:\u001b[0m\u001b[0;34m\u001b[0m\u001b[0;34m\u001b[0m\u001b[0m\n\u001b[1;32m    683\u001b[0m                 \u001b[0mself\u001b[0m\u001b[0;34m.\u001b[0m\u001b[0m_timeout_occurred\u001b[0m \u001b[0;34m=\u001b[0m \u001b[0;32mTrue\u001b[0m\u001b[0;34m\u001b[0m\u001b[0;34m\u001b[0m\u001b[0m\n",
      "\u001b[0;31mKeyboardInterrupt\u001b[0m: "
     ]
    }
   ],
   "source": [
    "# 4. 윈도우별 Top 5 추출\n",
    "\n",
    "t_env.execute_sql(\"\"\"\n",
    "CREATE TEMPORARY VIEW top5_trade_volume_per_minute AS\n",
    "SELECT *\n",
    "FROM (\n",
    "    SELECT *,\n",
    "        ROW_NUMBER() OVER (\n",
    "            PARTITION BY window_start, window_end \n",
    "            ORDER BY one_m_trade_volume DESC\n",
    "        ) AS row_num\n",
    "    FROM trade_volume_per_minute\n",
    ")\n",
    "WHERE row_num <= 5\n",
    "\"\"\")\n",
    "\n",
    "t_env.execute_sql(\"SELECT * FROM top5_trade_volume_per_minute\").print()"
   ]
  },
  {
   "cell_type": "code",
   "execution_count": null,
   "id": "5d59274e",
   "metadata": {},
   "outputs": [],
   "source": []
  }
 ],
 "metadata": {
  "kernelspec": {
   "display_name": "pyflink_38",
   "language": "python",
   "name": "python3"
  },
  "language_info": {
   "codemirror_mode": {
    "name": "ipython",
    "version": 3
   },
   "file_extension": ".py",
   "mimetype": "text/x-python",
   "name": "python",
   "nbconvert_exporter": "python",
   "pygments_lexer": "ipython3",
   "version": "3.8.20"
  }
 },
 "nbformat": 4,
 "nbformat_minor": 5
}
