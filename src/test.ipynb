{
 "cells": [
  {
   "cell_type": "code",
   "execution_count": 1,
   "id": "e0f426ca",
   "metadata": {},
   "outputs": [
    {
     "data": {
      "text/plain": [
       "[('KRW-WAXP', '왁스'),\n",
       " ('KRW-CARV', '카브'),\n",
       " ('KRW-LSK', '리스크'),\n",
       " ('KRW-BORA', '보라'),\n",
       " ('KRW-PUNDIX', '펀디엑스'),\n",
       " ('KRW-BAT', '베이직어텐션토큰'),\n",
       " ('KRW-HUNT', '헌트'),\n",
       " ('KRW-PENGU', '펏지펭귄'),\n",
       " ('KRW-FIL', '파일코인'),\n",
       " ('KRW-BEAM', '빔'),\n",
       " ('KRW-WAVES', '웨이브'),\n",
       " ('KRW-USDC', '유에스디코인'),\n",
       " ('KRW-MOVE', '무브먼트'),\n",
       " ('KRW-AERGO', '아르고'),\n",
       " ('KRW-USDT', '테더'),\n",
       " ('KRW-BOUNTY', '체인바운티'),\n",
       " ('KRW-KAITO', '카이토'),\n",
       " ('KRW-LPT', '라이브피어'),\n",
       " ('KRW-BLAST', '블라스트'),\n",
       " ('KRW-DKA', '디카르고'),\n",
       " ('KRW-ANKR', '앵커'),\n",
       " ('KRW-ALGO', '알고랜드'),\n",
       " ('KRW-SHIB', '시바이누'),\n",
       " ('KRW-UNI', '유니스왑'),\n",
       " ('KRW-TOKAMAK', '토카막네트워크'),\n",
       " ('KRW-DOGE', '도지코인'),\n",
       " ('KRW-PEPE', '페페'),\n",
       " ('KRW-HBAR', '헤데라'),\n",
       " ('KRW-BCH', '비트코인캐시'),\n",
       " ('KRW-NEWT', '뉴턴프로토콜'),\n",
       " ('KRW-SEI', '세이'),\n",
       " ('KRW-BONK', '봉크'),\n",
       " ('KRW-JST', '저스트'),\n",
       " ('KRW-AAVE', '에이브'),\n",
       " ('KRW-JTO', '지토'),\n",
       " ('KRW-JUP', '주피터'),\n",
       " ('KRW-FLOW', '플로우'),\n",
       " ('KRW-ALT', '알트레이어'),\n",
       " ('KRW-LAYER', '솔레이어'),\n",
       " ('KRW-TRX', '트론'),\n",
       " ('KRW-POWR', '파워렛저'),\n",
       " ('KRW-ATOM', '코스모스'),\n",
       " ('KRW-ARKM', '아캄'),\n",
       " ('KRW-CRO', '크로노스'),\n",
       " ('KRW-NXPC', '넥스페이스'),\n",
       " ('KRW-A', '볼타'),\n",
       " ('KRW-TRUMP', '오피셜트럼프'),\n",
       " ('KRW-G', '그래비티'),\n",
       " ('KRW-CELO', '셀로'),\n",
       " ('KRW-CTC', '크레딧코인'),\n",
       " ('KRW-ANIME', '애니메코인'),\n",
       " ('KRW-APT', '앱토스'),\n",
       " ('KRW-MOCA', '모카네트워크'),\n",
       " ('KRW-AHT', '아하토큰'),\n",
       " ('KRW-EGLD', '멀티버스엑스'),\n",
       " ('KRW-ERA', '칼데라'),\n",
       " ('KRW-NEO', '네오'),\n",
       " ('KRW-ETC', '이더리움클래식'),\n",
       " ('KRW-IOTA', '아이오타'),\n",
       " ('KRW-IOST', '아이오에스티'),\n",
       " ('KRW-AKT', '아카시네트워크'),\n",
       " ('KRW-COW', '카우프로토콜'),\n",
       " ('KRW-VIRTUAL', '버추얼프로토콜'),\n",
       " ('KRW-ETH', '이더리움'),\n",
       " ('KRW-IQ', '아이큐'),\n",
       " ('KRW-NEAR', '니어프로토콜'),\n",
       " ('KRW-RVN', '레이븐코인'),\n",
       " ('KRW-AGLD', '어드벤처골드'),\n",
       " ('KRW-ID', '스페이스아이디'),\n",
       " ('KRW-WAL', '월러스')]"
      ]
     },
     "execution_count": 1,
     "metadata": {},
     "output_type": "execute_result"
    }
   ],
   "source": [
    "from client import Api\n",
    "tickers = Api.upbit_get_tickers()\n",
    "tickers"
   ]
  },
  {
   "cell_type": "code",
   "execution_count": null,
   "id": "c0707c16",
   "metadata": {},
   "outputs": [],
   "source": []
  }
 ],
 "metadata": {
  "language_info": {
   "name": "python"
  }
 },
 "nbformat": 4,
 "nbformat_minor": 5
}
